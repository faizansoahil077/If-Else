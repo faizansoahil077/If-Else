{
 "cells": [
  {
   "cell_type": "code",
   "execution_count": 7,
   "metadata": {},
   "outputs": [
    {
     "name": "stdout",
     "output_type": "stream",
     "text": [
      "Enter car name : mehran\n",
      "better guess next time\n"
     ]
    }
   ],
   "source": [
    "car = input(\"Enter car name : \")\n",
    "if car ==\"suzuki\":\n",
    "    print(\"your guess is right\")\n",
    "else:\n",
    "    print(\"better guess next time\")"
   ]
  },
  {
   "cell_type": "code",
   "execution_count": 10,
   "metadata": {},
   "outputs": [
    {
     "name": "stdout",
     "output_type": "stream",
     "text": [
      "is car ==\"suzuki\"? i predict true\n",
      "True\n",
      "\n",
      " Is car =='audi'? i predict false\n",
      "False\n"
     ]
    }
   ],
   "source": [
    "car ='suzuki'\n",
    "print('is car ==\"suzuki\"? i predict true')\n",
    "print (car=='suzuki')\n",
    "\n",
    "print(\"\\n Is car =='audi'? i predict false\")\n",
    "print(car=='audi')"
   ]
  },
  {
   "cell_type": "code",
   "execution_count": 15,
   "metadata": {},
   "outputs": [
    {
     "name": "stdout",
     "output_type": "stream",
     "text": [
      "you earn 5 points\n",
      "you pass the round\n"
     ]
    }
   ],
   "source": [
    "alien_color =\"green\"\n",
    "if alien_color==\"green\":\n",
    "    print(\"you earn 5 points\")\n",
    "    print(\"you pass the round\")\n",
    "    \n",
    "if alien_color==\"red\":\n",
    "    print(\"no output\")"
   ]
  },
  {
   "cell_type": "code",
   "execution_count": 18,
   "metadata": {},
   "outputs": [
    {
     "name": "stdout",
     "output_type": "stream",
     "text": [
      "Enter color: blue\n",
      "you just earned 5 points\n"
     ]
    }
   ],
   "source": [
    "alien_color=input(\"Enter color: \")\n",
    "if alien_color==\"blue\":\n",
    "    print(\"you just earned 5 points\")\n",
    "else:\n",
    "    print(\"you earned 10 points\")"
   ]
  },
  {
   "cell_type": "code",
   "execution_count": 17,
   "metadata": {},
   "outputs": [
    {
     "name": "stdout",
     "output_type": "stream",
     "text": [
      "Enter color: green\n",
      "you earned 10 points\n"
     ]
    }
   ],
   "source": [
    "alien_color=input(\"Enter color: \")\n",
    "if alien_color==\"blue\":\n",
    "    print(\"you just earned 5 points\")\n",
    "else:\n",
    "    print(\"you earned 10 points\")"
   ]
  },
  {
   "cell_type": "code",
   "execution_count": 21,
   "metadata": {},
   "outputs": [
    {
     "name": "stdout",
     "output_type": "stream",
     "text": [
      "Enter color: green\n",
      "you got 5 points\n"
     ]
    }
   ],
   "source": [
    "alien_color =input(\"Enter color: \")\n",
    "if alien_color==\"green\":\n",
    "    print(\"you got 5 points\")\n",
    "elif alien_color==\"blue\":\n",
    "    print(\"you got 10 points\")\n",
    "elif alien_color==\"red\":  \n",
    "    print(\"you got 15 points\")\n",
    "\n"
   ]
  },
  {
   "cell_type": "code",
   "execution_count": 22,
   "metadata": {},
   "outputs": [
    {
     "name": "stdout",
     "output_type": "stream",
     "text": [
      "Enter color: blue\n",
      "you got 10 points\n"
     ]
    }
   ],
   "source": [
    "alien_color =input(\"Enter color: \")\n",
    "if alien_color==\"green\":\n",
    "    print(\"you got 5 points\")\n",
    "elif alien_color==\"blue\":\n",
    "    print(\"you got 10 points\")\n",
    "elif alien_color==\"red\":  \n",
    "    print(\"you got 15 points\")\n",
    "\n"
   ]
  },
  {
   "cell_type": "code",
   "execution_count": 23,
   "metadata": {},
   "outputs": [
    {
     "name": "stdout",
     "output_type": "stream",
     "text": [
      "Enter color: red\n",
      "you got 15 points\n"
     ]
    }
   ],
   "source": [
    "alien_color =input(\"Enter color: \")\n",
    "if alien_color==\"green\":\n",
    "    print(\"you got 5 points\")\n",
    "elif alien_color==\"blue\":\n",
    "    print(\"you got 10 points\")\n",
    "elif alien_color==\"red\":  \n",
    "    print(\"you got 15 points\")\n",
    "\n"
   ]
  },
  {
   "cell_type": "code",
   "execution_count": 31,
   "metadata": {},
   "outputs": [
    {
     "name": "stdout",
     "output_type": "stream",
     "text": [
      "Enter your age: 65\n",
      "you are an elder\n"
     ]
    }
   ],
   "source": [
    "person = int(input(\"Enter your age: \"))\n",
    "if person < 2:\n",
    "    print(\"you are a baby\")\n",
    "elif person <=4:\n",
    "    print(\"you are a toddler\")\n",
    "elif person <=13:\n",
    "    print(\"you are a kid\")\n",
    "elif person <20:\n",
    "    print(\"you are a teenager\")\n",
    "elif person <65:\n",
    "    print(\"you are adult\")\n",
    "elif person >=65:\n",
    "    print(\"you are an elder\")"
   ]
  },
  {
   "cell_type": "code",
   "execution_count": 1,
   "metadata": {},
   "outputs": [
    {
     "name": "stdout",
     "output_type": "stream",
     "text": [
      "['banana', 'mangos', 'apple', 'grapes', 'pineapple']banana\n",
      "this is your favorite\n"
     ]
    }
   ],
   "source": [
    "favorite_fruits = ['banana','mangos','apple','grapes','pineapple']\n",
    "if favorite_fruits ==\"banana\":\n",
    "    print(\"this is your favorite\")\n",
    "elif favorite_fruits =='mangos':\n",
    "    print(\"this is your 2nd favorite\")\n",
    "elif favorite_fruits =='apple':\n",
    "    print(\"this is your 3rd favorite\")\n",
    "elif favorite_fruits =='mangos':\n",
    "    print(\"this is your 4th favorite\")\n",
    "elif favorite_fruits =='mangos':    \n",
    "    print(\"this is your 5th favorite\")\n",
    "    \n",
    "    \n"
   ]
  },
  {
   "cell_type": "code",
   "execution_count": null,
   "metadata": {},
   "outputs": [],
   "source": []
  }
 ],
 "metadata": {
  "kernelspec": {
   "display_name": "Python 3",
   "language": "python",
   "name": "python3"
  },
  "language_info": {
   "codemirror_mode": {
    "name": "ipython",
    "version": 3
   },
   "file_extension": ".py",
   "mimetype": "text/x-python",
   "name": "python",
   "nbconvert_exporter": "python",
   "pygments_lexer": "ipython3",
   "version": "3.7.3"
  }
 },
 "nbformat": 4,
 "nbformat_minor": 2
}
